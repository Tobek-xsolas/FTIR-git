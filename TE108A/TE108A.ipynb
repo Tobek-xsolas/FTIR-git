{
 "cells": [
  {
   "cell_type": "code",
   "execution_count": null,
   "metadata": {},
   "outputs": [],
   "source": [
    "import numpy as np\n",
    "import glob\n",
    "import matplotlib.pyplot as plt\n",
    "\n",
    "start=3250\n",
    "end=4000\n",
    "\n",
    "#Load data (all .csv files in directory)\n",
    "files=sorted(glob.glob(\"*.csv\"))\n",
    "x = np.loadtxt(files[1], skiprows=2, delimiter=',', unpack =True)[0][start:end]\n",
    "tmp = np.loadtxt(files[1], skiprows=2, delimiter=',', unpack=True)[1][start:end]\n",
    "\n",
    "n=len(files) #number of files\n",
    "m=len(tmp)   #length of each array of spectrum data\n",
    "data=np.ndarray((n,m))  #create big array to hold all data\n",
    "\n",
    "\n",
    "i=0\n",
    "for file in files:\n",
    "    #tmp=np.loadtxt(file, skiprows=25, unpack=True)\n",
    "    data[i][:]=np.loadtxt(file, skiprows=2, delimiter=',', unpack=True)[1][start:end]\n",
    "    i+=1"
   ]
  },
  {
   "cell_type": "code",
   "execution_count": null,
   "metadata": {},
   "outputs": [],
   "source": [
    "x    #the wavenumber array, contains x values for our plots"
   ]
  },
  {
   "cell_type": "code",
   "execution_count": null,
   "metadata": {},
   "outputs": [],
   "source": [
    "data   #conatins all our data, one sub-array per spectrum"
   ]
  },
  {
   "cell_type": "code",
   "execution_count": null,
   "metadata": {},
   "outputs": [],
   "source": [
    "data[0]   #Array of y values for a spectrum"
   ]
  },
  {
   "cell_type": "code",
   "execution_count": null,
   "metadata": {},
   "outputs": [],
   "source": [
    "files[0]  #the filename corresponding to data[0]"
   ]
  },
  {
   "cell_type": "raw",
   "metadata": {},
   "source": [
    "So to plot the 80K spectrum, run"
   ]
  },
  {
   "cell_type": "code",
   "execution_count": null,
   "metadata": {},
   "outputs": [],
   "source": [
    "plt.plot(x,data[0])"
   ]
  },
  {
   "cell_type": "raw",
   "metadata": {},
   "source": [
    "To plot all of them, run the loop"
   ]
  },
  {
   "cell_type": "code",
   "execution_count": null,
   "metadata": {},
   "outputs": [],
   "source": [
    "for i in data:\n",
    "    plt.plot(x,i)"
   ]
  },
  {
   "cell_type": "raw",
   "metadata": {},
   "source": [
    "They are all over the place so we should normalize"
   ]
  },
  {
   "cell_type": "code",
   "execution_count": null,
   "metadata": {},
   "outputs": [],
   "source": [
    "for i in data:\n",
    "    i-=min(i)   #subtract minimum\n",
    "    i/=max(i)   #divide by maximum"
   ]
  },
  {
   "cell_type": "code",
   "execution_count": null,
   "metadata": {},
   "outputs": [],
   "source": [
    "fig=plt.figure(figsize=(15,10))\n",
    "for i in data:\n",
    "    plt.plot(x,i)\n",
    "plt.legend(files) #Show the legend of filenames, we could change this to temperatures manually\n",
    "plt.ylabel('Absorbance [arb. u]')\n",
    "plt.xlabel('Wavenumber [per cm]')"
   ]
  },
  {
   "cell_type": "raw",
   "metadata": {},
   "source": [
    "yikes!"
   ]
  },
  {
   "cell_type": "raw",
   "metadata": {},
   "source": [
    "I need to have some late lunch. I will get back to you in a while."
   ]
  }
 ],
 "metadata": {
  "kernelspec": {
   "display_name": "Python 3",
   "language": "python",
   "name": "python3"
  },
  "language_info": {
   "codemirror_mode": {
    "name": "ipython",
    "version": 3
   },
   "file_extension": ".py",
   "mimetype": "text/x-python",
   "name": "python",
   "nbconvert_exporter": "python",
   "pygments_lexer": "ipython3",
   "version": "3.8.2"
  }
 },
 "nbformat": 4,
 "nbformat_minor": 4
}
