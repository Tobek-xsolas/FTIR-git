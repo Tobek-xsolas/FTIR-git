{
 "cells": [
  {
   "cell_type": "code",
   "execution_count": null,
   "metadata": {},
   "outputs": [],
   "source": [
    "import numpy as np\n",
    "import glob\n",
    "import matplotlib.pyplot as plt\n",
    "from scipy.signal import savgol_filter\n",
    "\n",
    "start=3300\n",
    "end=4000\n",
    "\n",
    "#Load data (all .csv files in directory)\n",
    "files=sorted(glob.glob(\"*.csv\"))\n",
    "x = np.loadtxt(files[1], skiprows=2, delimiter=',', unpack =True)[0][start:end]\n",
    "tmp = np.loadtxt(files[1], skiprows=2, delimiter=',', unpack=True)[1][start:end]\n",
    "\n",
    "n=len(files) #number of files\n",
    "m=len(tmp)   #length of each array of spectrum data\n",
    "data=np.ndarray((n,m))  #create big array to hold all data\n",
    "\n",
    "\n",
    "i=0\n",
    "for file in files:\n",
    "    #tmp=np.loadtxt(file, skiprows=25, unpack=True)\n",
    "    data[i][:]=np.loadtxt(file, skiprows=2, delimiter=',', unpack=True)[1][start:end]\n",
    "    i+=1"
   ]
  },
  {
   "cell_type": "code",
   "execution_count": null,
   "metadata": {},
   "outputs": [],
   "source": [
    "#Normalize and smooth\n",
    "for i in range(n):\n",
    "    data[i]=savgol_filter(data[i],37,3)\n",
    "    data[i]-=min(data[i])   #subtract minimum\n",
    "    sum=np.sum(data[i])\n",
    "    data[i]/=sum   #divide by sum (area normalization)"
   ]
  },
  {
   "cell_type": "code",
   "execution_count": null,
   "metadata": {},
   "outputs": [],
   "source": [
    "fig=plt.figure(figsize=(15,10))\n",
    "\n",
    "include=[1,2,3,4,5,8,9,10]\n",
    "legend=['80 K','90 K','100 K','115 K', '120 K', '125 K', '135 K', '80 K (after)']\n",
    "\n",
    "for i in include:\n",
    "    peak=np.argmax(data[i][100:300])+100    #find peak\n",
    "    #plt.scatter(x[peak],data[i][peak])\n",
    "    plt.annotate(str(x[peak]),xy=(x[peak],data[i][peak]),xytext=(20,20), textcoords='offset points', arrowprops=dict(arrowstyle= '->'))\n",
    "    plt.plot(x,data[i], linestyle='--')\n",
    "#plt.legend([files[i] for i in include]) #Show the legend of filenames, we could change this to temperatures manually\n",
    "#plt.legend(legend)\n",
    "plt.title('Unocoupled OD stretch, eHDA 1% HOD in H2O')\n",
    "plt.ylabel('Absorbance [arb. u]')\n",
    "plt.xlabel('Wavenumber [per cm]')"
   ]
  },
  {
   "cell_type": "code",
   "execution_count": null,
   "metadata": {},
   "outputs": [],
   "source": []
  }
 ],
 "metadata": {
  "kernelspec": {
   "display_name": "Python 3",
   "language": "python",
   "name": "python3"
  },
  "language_info": {
   "codemirror_mode": {
    "name": "ipython",
    "version": 3
   },
   "file_extension": ".py",
   "mimetype": "text/x-python",
   "name": "python",
   "nbconvert_exporter": "python",
   "pygments_lexer": "ipython3",
   "version": "3.7.6"
  }
 },
 "nbformat": 4,
 "nbformat_minor": 4
}
