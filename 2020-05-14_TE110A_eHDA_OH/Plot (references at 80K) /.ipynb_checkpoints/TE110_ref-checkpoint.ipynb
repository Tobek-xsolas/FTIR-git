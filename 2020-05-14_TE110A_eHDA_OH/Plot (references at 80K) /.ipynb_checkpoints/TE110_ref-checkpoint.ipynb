{
 "cells": [
  {
   "cell_type": "code",
   "execution_count": 1,
   "metadata": {},
   "outputs": [],
   "source": [
    "#init\n",
    "\n",
    "import numpy as np   #numpy lets us do nice vector manipulations\n",
    "import glob          #access the file system (for searching for files)\n",
    "%matplotlib widget\n",
    "import matplotlib.pyplot as plt          #for plotting\n",
    "from scipy.signal import savgol_filter   #nice filter\n",
    "#import mpld3                             #toolbar for zooming in plots\n",
    "#mpld3.enable_notebook()"
   ]
  },
  {
   "cell_type": "code",
   "execution_count": 2,
   "metadata": {},
   "outputs": [],
   "source": [
    "#import data\n",
    "\n",
    "\n",
    "#Load data (all .ASC files in directory)\n",
    "files=sorted(glob.glob(\"*.ASC\"))\n",
    "\n",
    "#Get x axis wavenumbers from a file\n",
    "x = np.loadtxt(files[1], skiprows=25, unpack=True)[0]\n",
    "\n",
    "n=len(files)            #number of files\n",
    "m=len(x)             #data length of each spectrum\n",
    "data=np.ndarray((n,m))  #create nxm array to hold all data\n",
    "\n",
    "for i in range(n):\n",
    "    data[i] = np.loadtxt(files[i], skiprows=25, unpack=True)[1]"
   ]
  },
  {
   "cell_type": "code",
   "execution_count": 3,
   "metadata": {},
   "outputs": [],
   "source": [
    "#Smooth data\n",
    "\n",
    "sdata=np.ndarray((n,m))   #another array to hold smoothed data\n",
    "\n",
    "for i in range(n):\n",
    "    sdata[i]=savgol_filter(data[i],23,3)"
   ]
  },
  {
   "cell_type": "code",
   "execution_count": 4,
   "metadata": {},
   "outputs": [],
   "source": [
    "#Find peaks (in smoothed data)\n",
    "\n",
    "peaks=[]\n",
    "\n",
    "for i in sdata:\n",
    "    peaks.append(np.argmax(i[1700:1800])+1700)    #find peak"
   ]
  },
  {
   "cell_type": "code",
   "execution_count": 5,
   "metadata": {},
   "outputs": [
    {
     "data": {
      "text/plain": [
       "array([2552., 2548., 2550., 2544., 2558., 2554., 2546., 2414., 2406.,\n",
       "       2408., 2406.])"
      ]
     },
     "execution_count": 5,
     "metadata": {},
     "output_type": "execute_result"
    }
   ],
   "source": [
    "#Normalize\n",
    "\n",
    "nsdata=np.ndarray((n,m))\n",
    "\n",
    "for i in range(n):\n",
    "    tmp=sdata[i]-min(sdata[i])   #subtract minimum\n",
    "    #sum=np.sum(data[i])\n",
    "    #data[i]/=sum   #divide by sum (area normalization)\n",
    "    nsdata[i]=tmp/tmp[peaks[i]]\n",
    "    \n",
    "x[peaks]"
   ]
  },
  {
   "cell_type": "code",
   "execution_count": 6,
   "metadata": {},
   "outputs": [
    {
     "data": {
      "application/vnd.jupyter.widget-view+json": {
       "model_id": "643b25a1e37b41ceae62c3fc4e3fad9b",
       "version_major": 2,
       "version_minor": 0
      },
      "text/plain": [
       "Canvas(toolbar=Toolbar(toolitems=[('Home', 'Reset original view', 'home', 'home'), ('Back', 'Back to previous …"
      ]
     },
     "metadata": {},
     "output_type": "display_data"
    }
   ],
   "source": [
    "fig, ax = plt.subplots()\n",
    "ax.set_title('Uncoupled ODH stretch, eHDA 1% HOD in D2O, spectra at 80K after heating')\n",
    "\n",
    "#fig=plt.figure(figsize=(15,10))   #creates a figure and sets size\n",
    "\n",
    "#include=[0,1,2,3,4,7,8,9]       #These spectra will be plotted\n",
    "\n",
    "legend=[str(files[i])+' (' + str(x[peaks[i]])+')' for i in range(n)]   #Use filenames for legend   \n",
    "#legend=['80 K', '10000 K', 'etc']   #custom legend\n",
    "\n",
    "lines=[0 for i in range(n)]\n",
    "\n",
    "for i in range(n):\n",
    "   lines[i], = ax.plot(x,sdata[i]-sdata[i][peaks[i]], linestyle='-')\n",
    "\n",
    "leg = ax.legend(legend, loc='upper right')\n",
    "leg.get_frame().set_alpha(0.5)\n",
    "\n",
    "plt.ylabel('Absorbance [arb. u]')\n",
    "plt.xlabel('Wavenumber [per cm]')\n",
    "\n",
    "# we will set up a dict mapping legend line to orig line, and enable\n",
    "# picking on the legend line\n",
    "#lines = [line1, line2]\n",
    "lined = dict()\n",
    "for legline, origline in zip(leg.get_lines(), lines):\n",
    "    legline.set_picker(5)  # 5 pts tolerance\n",
    "    lined[legline] = origline\n",
    "\n",
    "def onpick(event):\n",
    "    # on the pick event, find the orig line corresponding to the\n",
    "    # legend proxy line, and toggle the visibility\n",
    "    legline = event.artist\n",
    "    origline = lined[legline]\n",
    "    vis = not origline.get_visible()\n",
    "    origline.set_visible(vis)\n",
    "    # Change the alpha on the line in the legend so we can see what lines\n",
    "    # have been toggled\n",
    "    if vis:\n",
    "        legline.set_alpha(1.0)\n",
    "    else:\n",
    "        legline.set_alpha(0.2)\n",
    "    fig.canvas.draw()\n",
    "\n",
    "fig.canvas.mpl_connect('pick_event', onpick)\n",
    "\n",
    "plt.show()"
   ]
  },
  {
   "cell_type": "code",
   "execution_count": 9,
   "metadata": {},
   "outputs": [
    {
     "data": {
      "application/vnd.jupyter.widget-view+json": {
       "model_id": "e8ca0ba5e3a34835b7d6991b2d42cf16",
       "version_major": 2,
       "version_minor": 0
      },
      "text/plain": [
       "Canvas(toolbar=Toolbar(toolitems=[('Home', 'Reset original view', 'home', 'home'), ('Back', 'Back to previous …"
      ]
     },
     "metadata": {},
     "output_type": "display_data"
    }
   ],
   "source": [
    "temps=[80,90,100,105,110,115,120,125,130,140,150,160]\n",
    "plt.plot(temps,x[peaks])\n",
    "plt.title('OD peak position at 80K after heating')\n",
    "plt.ylabel('Wavenumber [per cm]')\n",
    "plt.xlabel('Heating temperatur [K]')\n",
    "plt.show()"
   ]
  },
  {
   "cell_type": "code",
   "execution_count": null,
   "metadata": {},
   "outputs": [],
   "source": []
  }
 ],
 "metadata": {
  "kernelspec": {
   "display_name": "Python 3",
   "language": "python",
   "name": "python3"
  },
  "language_info": {
   "codemirror_mode": {
    "name": "ipython",
    "version": 3
   },
   "file_extension": ".py",
   "mimetype": "text/x-python",
   "name": "python",
   "nbconvert_exporter": "python",
   "pygments_lexer": "ipython3",
   "version": "3.7.6"
  }
 },
 "nbformat": 4,
 "nbformat_minor": 4
}
