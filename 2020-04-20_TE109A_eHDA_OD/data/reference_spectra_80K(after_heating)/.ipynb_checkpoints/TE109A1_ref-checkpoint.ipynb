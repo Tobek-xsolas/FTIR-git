{
 "cells": [
  {
   "cell_type": "code",
   "execution_count": 1,
   "metadata": {},
   "outputs": [],
   "source": [
    "#init\n",
    "\n",
    "import numpy as np   #numpy lets us do nice vector manipulations\n",
    "import glob          #access the file system (for searching for files)\n",
    "%matplotlib widget\n",
    "import matplotlib.pyplot as plt          #for plotting\n",
    "from scipy.signal import savgol_filter   #nice filter\n",
    "#import mpld3                             #toolbar for zooming in plots\n",
    "#mpld3.enable_notebook()"
   ]
  },
  {
   "cell_type": "code",
   "execution_count": 2,
   "metadata": {},
   "outputs": [],
   "source": [
    "#import data\n",
    "\n",
    "\n",
    "#Load data (all .ASC files in directory)\n",
    "files=sorted(glob.glob(\"*.ASC\"))\n",
    "\n",
    "#Get x axis wavenumbers from a file\n",
    "x = np.loadtxt(files[1], skiprows=25, unpack=True)[0]\n",
    "\n",
    "n=len(files)            #number of files\n",
    "m=len(x)             #data length of each spectrum\n",
    "data=np.ndarray((n,m))  #create nxm array to hold all data\n",
    "\n",
    "for i in range(n):\n",
    "    data[i] = np.loadtxt(files[i], skiprows=25, unpack=True)[1]"
   ]
  },
  {
   "cell_type": "code",
   "execution_count": 3,
   "metadata": {},
   "outputs": [],
   "source": [
    "#Smooth data\n",
    "\n",
    "sdata=np.ndarray((n,m))   #another array to hold smoothed data\n",
    "\n",
    "for i in range(n):\n",
    "    sdata[i]=savgol_filter(data[i],15,3)"
   ]
  },
  {
   "cell_type": "code",
   "execution_count": 4,
   "metadata": {},
   "outputs": [],
   "source": [
    "#Find peaks (in smoothed data)\n",
    "\n",
    "peaks=[]\n",
    "\n",
    "for i in sdata:\n",
    "    peaks.append(np.argmax(i[1700:1800])+1700)    #find peak"
   ]
  },
  {
   "cell_type": "code",
   "execution_count": 5,
   "metadata": {},
   "outputs": [],
   "source": [
    "#Normalize\n",
    "\n",
    "nsdata=np.ndarray((n,m))\n",
    "\n",
    "for i in range(n):\n",
    "    tmp=sdata[i]-min(sdata[i])   #subtract minimum\n",
    "    #sum=np.sum(data[i])\n",
    "    #data[i]/=sum   #divide by sum (area normalization)\n",
    "    nsdata[i]=tmp/tmp[peaks[i]]"
   ]
  },
  {
   "cell_type": "code",
   "execution_count": 6,
   "metadata": {},
   "outputs": [
    {
     "data": {
      "application/vnd.jupyter.widget-view+json": {
       "model_id": "5e3ef385d84a4a38a90ef0eae915eaf2",
       "version_major": 2,
       "version_minor": 0
      },
      "text/plain": [
       "Canvas(toolbar=Toolbar(toolitems=[('Home', 'Reset original view', 'home', 'home'), ('Back', 'Back to previous …"
      ]
     },
     "metadata": {},
     "output_type": "display_data"
    }
   ],
   "source": [
    "fig, ax = plt.subplots()\n",
    "ax.set_title('Uncoupled OD stretch, eHDA 1% HOD in H2O, spectra at 80K after heating')\n",
    "\n",
    "#fig=plt.figure(figsize=(15,10))   #creates a figure and sets size\n",
    "\n",
    "#include=[0,1,2,3,4,7,8,9]       #These spectra will be plotted\n",
    "\n",
    "legend=[str(files[i])+' (' + str(x[peaks[i]])+')' for i in range(n)]   #Use filenames for legend   \n",
    "#legend=['80 K', '10000 K', 'etc']   #custom legend\n",
    "\n",
    "lines=[0 for i in range(n)]\n",
    "\n",
    "for i in range(n):\n",
    "   lines[i], = ax.plot(x,sdata[i]-sdata[i][peaks[i]], linestyle='-')\n",
    "\n",
    "leg = ax.legend(legend, loc='upper right')\n",
    "leg.get_frame().set_alpha(0.5)\n",
    "\n",
    "plt.ylabel('Absorbance [arb. u]')\n",
    "plt.xlabel('Wavenumber [per cm]')\n",
    "\n",
    "# we will set up a dict mapping legend line to orig line, and enable\n",
    "# picking on the legend line\n",
    "#lines = [line1, line2]\n",
    "lined = dict()\n",
    "for legline, origline in zip(leg.get_lines(), lines):\n",
    "    legline.set_picker(5)  # 5 pts tolerance\n",
    "    lined[legline] = origline\n",
    "\n",
    "def onpick(event):\n",
    "    # on the pick event, find the orig line corresponding to the\n",
    "    # legend proxy line, and toggle the visibility\n",
    "    legline = event.artist\n",
    "    origline = lined[legline]\n",
    "    vis = not origline.get_visible()\n",
    "    origline.set_visible(vis)\n",
    "    # Change the alpha on the line in the legend so we can see what lines\n",
    "    # have been toggled\n",
    "    if vis:\n",
    "        legline.set_alpha(1.0)\n",
    "    else:\n",
    "        legline.set_alpha(0.2)\n",
    "    fig.canvas.draw()\n",
    "\n",
    "fig.canvas.mpl_connect('pick_event', onpick)\n",
    "\n",
    "plt.show()"
   ]
  },
  {
   "cell_type": "code",
   "execution_count": 9,
   "metadata": {},
   "outputs": [],
   "source": [
    "temps=[80,90,100,105,110,115,120,125,130,140,150,160]\n",
    "plt.plot(temps,x[peaks])\n",
    "plt.title('OD peak position at 80K after heating')\n",
    "plt.ylabel('Wavenumber [per cm]')\n",
    "plt.xlabel('Heating temperatur [K]')\n",
    "plt.show()"
   ]
  },
  {
   "cell_type": "code",
   "execution_count": 9,
   "metadata": {},
   "outputs": [
    {
     "name": "stdout",
     "output_type": "stream",
     "text": [
      "2.1.0\n"
     ]
    }
   ],
   "source": [
    "!jupyter lab --version"
   ]
  },
  {
   "cell_type": "code",
   "execution_count": 10,
   "metadata": {},
   "outputs": [
    {
     "name": "stdout",
     "output_type": "stream",
     "text": [
      "Package            Version    \n",
      "------------------ -----------\n",
      "appdirs            1.4.3      \n",
      "apptools           4.5.0      \n",
      "attrs              19.3.0     \n",
      "backcall           0.1.0      \n",
      "bleach             3.1.3      \n",
      "btrfsutil          1.2.0      \n",
      "CacheControl       0.12.6     \n",
      "chardet            3.0.4      \n",
      "click              7.1.1      \n",
      "colorama           0.4.3      \n",
      "configobj          5.0.6      \n",
      "contextlib2        0.6.0.post1\n",
      "cycler             0.10.0     \n",
      "decorator          4.4.2      \n",
      "defusedxml         0.6.0      \n",
      "distlib            0.3.0      \n",
      "distro             1.4.0      \n",
      "entrypoints        0.3        \n",
      "envisage           4.9.0      \n",
      "feedparser         5.2.1      \n",
      "Flask              1.1.2      \n",
      "html5lib           1.0.1      \n",
      "idna               2.9        \n",
      "importlib-metadata 1.5.0      \n",
      "ipykernel          5.1.4      \n",
      "ipympl             0.5.6      \n",
      "ipython            7.13.0     \n",
      "ipython-genutils   0.1.0      \n",
      "ipywidgets         7.5.1      \n",
      "itsdangerous       1.1.0      \n",
      "jedi               0.16.0     \n",
      "Jinja2             2.11.2     \n",
      "json5              0.9.4      \n",
      "jsonschema         3.2.0      \n",
      "jupyter-client     6.0.0      \n",
      "jupyter-console    6.1.0      \n",
      "jupyter-core       4.6.3      \n",
      "jupyterlab         2.1.0      \n",
      "jupyterlab-server  1.1.1      \n",
      "kiwisolver         1.1.0      \n",
      "lensfun            0.3.95     \n",
      "lockfile           0.12.2     \n",
      "MarkupSafe         1.1.1      \n",
      "matplotlib         3.2.1      \n",
      "mayavi             4.7.1      \n",
      "meson              0.54.0     \n",
      "mistune            0.8.4      \n",
      "mpld3              0.3        \n",
      "msgpack            1.0.0      \n",
      "nbconvert          5.6.1      \n",
      "nbformat           4.4.0      \n",
      "notebook           6.0.3      \n",
      "numpy              1.18.2     \n",
      "ordered-set        3.1.1      \n",
      "packaging          20.3       \n",
      "pandas             1.0.3      \n",
      "pandocfilters      1.4.2      \n",
      "parso              0.6.2      \n",
      "pep517             0.8.2      \n",
      "pexpect            4.8.0      \n",
      "pickleshare        0.7.5      \n",
      "Pillow             6.2.1      \n",
      "pip                20.0.2     \n",
      "progress           1.5        \n",
      "prometheus-client  0.7.1      \n",
      "prompt-toolkit     3.0.5      \n",
      "ptyprocess         0.6.0      \n",
      "pyalpm             0.9.1      \n",
      "pyface             6.1.2      \n",
      "Pygments           2.6.1      \n",
      "pyparsing          2.4.7      \n",
      "pyPEG2             2.15.2     \n",
      "PyQt5              5.14.2     \n",
      "PyQt5-sip          12.7.2     \n",
      "PyQtWebEngine      5.14.0     \n",
      "pyrsistent         0.16.0     \n",
      "python-dateutil    2.8.1      \n",
      "pytoml             0.1.21     \n",
      "pytz               2019.3     \n",
      "PyYAML             5.3.1      \n",
      "pyzmq              19.0.0     \n",
      "qutebrowser        1.10.2     \n",
      "Recoll             1.0        \n",
      "recollchm          0.8.4.1+git\n",
      "regex              2020.2.20  \n",
      "requests           2.23.0     \n",
      "retrying           1.3.3      \n",
      "scipy              1.4.1      \n",
      "seaborn            0.10.0     \n",
      "Send2Trash         1.5.0      \n",
      "setuptools         46.1.3     \n",
      "sip                4.19.22    \n",
      "six                1.14.0     \n",
      "team               1.0        \n",
      "terminado          0.8.3      \n",
      "testpath           0.4.4      \n",
      "toml               0.10.0     \n",
      "tornado            6.0.4      \n",
      "traitlets          4.3.3      \n",
      "traits             5.2.0      \n",
      "traitsui           6.1.3      \n",
      "uncertainties      3.1.2      \n",
      "urllib3            1.25.9     \n",
      "wcwidth            0.1.8      \n",
      "webencodings       0.5.1      \n",
      "Werkzeug           1.0.1      \n",
      "widgetsnbextension 3.5.1      \n",
      "xarray             0.15.1     \n",
      "xlrd               1.2.0      \n",
      "zipp               3.1.0      \n"
     ]
    }
   ],
   "source": [
    "!pip list ipywidgets"
   ]
  },
  {
   "cell_type": "code",
   "execution_count": null,
   "metadata": {},
   "outputs": [],
   "source": []
  }
 ],
 "metadata": {
  "kernelspec": {
   "display_name": "Python 3",
   "language": "python",
   "name": "python3"
  },
  "language_info": {
   "codemirror_mode": {
    "name": "ipython",
    "version": 3
   },
   "file_extension": ".py",
   "mimetype": "text/x-python",
   "name": "python",
   "nbconvert_exporter": "python",
   "pygments_lexer": "ipython3",
   "version": "3.8.2"
  }
 },
 "nbformat": 4,
 "nbformat_minor": 4
}
