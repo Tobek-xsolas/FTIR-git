{
 "cells": [
  {
   "cell_type": "code",
   "execution_count": null,
   "metadata": {},
   "outputs": [],
   "source": [
    "#init\n",
    "\n",
    "import numpy as np   #numpy lets us do nice vector manipulations\n",
    "import glob          #access the file system (for searching for files)\n",
    "import matplotlib.pyplot as plt          #for plotting\n",
    "from scipy.signal import savgol_filter   #nice filter\n",
    "import mpld3                             #toolbar for zooming in plots\n",
    "mpld3.enable_notebook()"
   ]
  },
  {
   "cell_type": "code",
   "execution_count": null,
   "metadata": {
    "jupyter": {
     "source_hidden": true
    }
   },
   "outputs": [],
   "source": [
    "#import data\n",
    "\n",
    "#Load data (all .ASC files in directory)\n",
    "files=sorted(glob.glob(\"*.ASC\"))\n",
    "\n",
    "#Get x axis wavenumbers from a file\n",
    "x = np.loadtxt(files[1], skiprows=25, unpack=True)[0]\n",
    "\n",
    "n=len(files)            #number of files\n",
    "m=len(x)             #data length of each spectrum\n",
    "data=np.ndarray((n,m))  #create nxm array to hold all data\n",
    "\n",
    "for i in range(n):\n",
    "    data[i] = np.loadtxt(files[i], skiprows=25, unpack=True)[1]"
   ]
  },
  {
   "cell_type": "code",
   "execution_count": null,
   "metadata": {
    "jupyter": {
     "source_hidden": true
    }
   },
   "outputs": [],
   "source": [
    "#Smooth data\n",
    "\n",
    "sdata=np.ndarray((n,m))   #another array to hold smoothed data\n",
    "\n",
    "for i in range(n):\n",
    "    sdata[i]=savgol_filter(data[i],37,3)"
   ]
  },
  {
   "cell_type": "code",
   "execution_count": null,
   "metadata": {
    "jupyter": {
     "source_hidden": true
    }
   },
   "outputs": [],
   "source": [
    "#Find peaks (in smoothed data)\n",
    "\n",
    "peaks=[]\n",
    "\n",
    "for i in sdata:\n",
    "    peaks.append(np.argmax(i[3400:3600])+3400)    #find peak"
   ]
  },
  {
   "cell_type": "code",
   "execution_count": null,
   "metadata": {
    "jupyter": {
     "source_hidden": true
    }
   },
   "outputs": [],
   "source": [
    "#Normalize\n",
    "\n",
    "nsdata=np.ndarray((n,m))\n",
    "\n",
    "for i in range(n):\n",
    "    tmp=sdata[i]-sdata[i][-1]  #subtract minimum\n",
    "    nsdata[i]=tmp/tmp[peaks[i]]\n",
    "    "
   ]
  },
  {
   "cell_type": "code",
   "execution_count": null,
   "metadata": {},
   "outputs": [],
   "source": [
    "fig=plt.figure(figsize=(15,10))   #creates a figure and sets size\n",
    "\n",
    "#include=[0,1,2,3,4,7,8,9]       #These spectra will be plotted\n",
    "\n",
    "legend=[str(files[i])+' (' + str(x[peaks[i]])+')' for i in range(n)]   #Use filenames for legend   \n",
    "#legend=['80 K', '10000 K', 'etc']   #custom legend\n",
    "\n",
    "for i in range(n):\n",
    "    plt.plot(x,nsdata[i], linestyle='-')\n",
    "\n",
    "plt.legend(legend, loc='upper right')\n",
    "plt.title('Uncoupled OD stretch, eHDA 1% HOD in H2O')\n",
    "plt.ylabel('Absorbance [arb. u]')\n",
    "plt.xlabel('Wavenumber [per cm]')"
   ]
  },
  {
   "cell_type": "code",
   "execution_count": null,
   "metadata": {},
   "outputs": [],
   "source": []
  }
 ],
 "metadata": {
  "kernelspec": {
   "display_name": "Python 3",
   "language": "python",
   "name": "python3"
  },
  "language_info": {
   "codemirror_mode": {
    "name": "ipython",
    "version": 3
   },
   "file_extension": ".py",
   "mimetype": "text/x-python",
   "name": "python",
   "nbconvert_exporter": "python",
   "pygments_lexer": "ipython3",
   "version": "3.8.2"
  }
 },
 "nbformat": 4,
 "nbformat_minor": 4
}
